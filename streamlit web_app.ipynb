{
 "cells": [
  {
   "cell_type": "code",
   "execution_count": 1,
   "id": "4b88133a-4aab-4cf6-85e0-327ffe569180",
   "metadata": {},
   "outputs": [
    {
     "name": "stdout",
     "output_type": "stream",
     "text": [
      "Streamlit app script saved as 'breast_cancer_app.py'.\n"
     ]
    }
   ],
   "source": [
    "# Streamlit app code\n",
    "streamlit_code = \"\"\"\n",
    "import streamlit as st\n",
    "import pickle\n",
    "import numpy as np\n",
    "import pandas as pd\n",
    "\n",
    "# Load the saved scaler and model\n",
    "with open(\"scaler.sav\", \"rb\") as scaler_file:\n",
    "    scaler = pickle.load(scaler_file)\n",
    "\n",
    "with open(\"trained_scaled_model.sav\", \"rb\") as model_file:\n",
    "    model = pickle.load(model_file)\n",
    "\n",
    "# Title of the app\n",
    "st.title(\"Breast Cancer Diagnosis Predictor\")\n",
    "st.write(\"Enter the following features to predict the diagnosis (Benign or Malignant).\")\n",
    "\n",
    "# Input fields for user input\n",
    "mean_radius = st.number_input(\"Mean Radius:\", min_value=0.0, step=0.1)\n",
    "mean_texture = st.number_input(\"Mean Texture:\", min_value=0.0, step=0.1)\n",
    "mean_perimeter = st.number_input(\"Mean Perimeter:\", min_value=0.0, step=0.1)\n",
    "mean_area = st.number_input(\"Mean Area:\", min_value=0.0, step=0.1)\n",
    "mean_smoothness = st.number_input(\"Mean Smoothness:\", min_value=0.0, step=0.01)\n",
    "\n",
    "# Predict button\n",
    "if st.button(\"Predict\"):\n",
    "    # Combine user inputs into a DataFrame\n",
    "    new_data = pd.DataFrame(\n",
    "        [[mean_radius, mean_texture, mean_perimeter, mean_area, mean_smoothness]],\n",
    "        columns=[\"mean_radius\", \"mean_texture\", \"mean_perimeter\", \"mean_area\", \"mean_smoothness\"]\n",
    "    )\n",
    "    \n",
    "    # Scale the input data\n",
    "    scaled_data = scaler.transform(new_data)\n",
    "    \n",
    "    # Make the prediction\n",
    "    prediction = model.predict(scaled_data)[0]\n",
    "    \n",
    "    # Display the prediction\n",
    "    if prediction == 1:\n",
    "        st.success(\"The diagnosis is Malignant (Cancer detected).\")\n",
    "    else:\n",
    "        st.success(\"The diagnosis is Benign (No cancer detected).\")\n",
    "\"\"\"\n",
    "# Save the Streamlit code to a Python file\n",
    "with open(\"breast_cancer_app.py\", \"w\") as f:\n",
    "    f.write(streamlit_code)\n",
    "\n",
    "print(\"Streamlit app script saved as 'breast_cancer_app.py'.\")\n"
   ]
  },
  {
   "cell_type": "code",
   "execution_count": null,
   "id": "f75d659a-00fd-4917-a749-59c123aa64e5",
   "metadata": {},
   "outputs": [],
   "source": []
  }
 ],
 "metadata": {
  "kernelspec": {
   "display_name": "Python 3 (ipykernel)",
   "language": "python",
   "name": "python3"
  },
  "language_info": {
   "codemirror_mode": {
    "name": "ipython",
    "version": 3
   },
   "file_extension": ".py",
   "mimetype": "text/x-python",
   "name": "python",
   "nbconvert_exporter": "python",
   "pygments_lexer": "ipython3",
   "version": "3.12.4"
  }
 },
 "nbformat": 4,
 "nbformat_minor": 5
}
